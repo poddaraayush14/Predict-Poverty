{
 "cells": [
  {
   "cell_type": "code",
   "execution_count": 1,
   "metadata": {},
   "outputs": [],
   "source": [
    "%matplotlib inline\n",
    "import os\n",
    "import numpy as np\n",
    "import pandas as pd\n",
    "import matplotlib.pyplot as plt"
   ]
  },
  {
   "cell_type": "code",
   "execution_count": 2,
   "metadata": {},
   "outputs": [],
   "source": [
    "A_train = pd.read_csv('train.csv')\n",
    "A_train.set_index('id', inplace = True)"
   ]
  },
  {
   "cell_type": "code",
   "execution_count": 3,
   "metadata": {},
   "outputs": [
    {
     "name": "stdout",
     "output_type": "stream",
     "text": [
      "<class 'pandas.core.frame.DataFrame'>\n",
      "Int64Index: 7382 entries, 66721 to 64745\n",
      "Columns: 335 entries, Unnamed: 0 to AlDbXTlZ\n",
      "dtypes: bool(1), int64(5), object(329)\n",
      "memory usage: 18.9+ MB\n"
     ]
    }
   ],
   "source": [
    "A_train.info()"
   ]
  },
  {
   "cell_type": "code",
   "execution_count": 4,
   "metadata": {},
   "outputs": [
    {
     "data": {
      "text/plain": [
       "<matplotlib.axes._subplots.AxesSubplot at 0x7f1a54b307c0>"
      ]
     },
     "execution_count": 4,
     "metadata": {},
     "output_type": "execute_result"
    },
    {
     "data": {
      "image/png": "[encoded data removed]",
      "text/plain": [
       "<Figure size 432x288 with 1 Axes>"
      ]
     },
     "metadata": {
      "needs_background": "light"
     },
     "output_type": "display_data"
    }
   ],
   "source": [
    "A_train.poor.value_counts().plot.bar(title = 'Number of poor in A')"
   ]
  },
  {
   "cell_type": "code",
   "execution_count": 5,
   "metadata": {},
   "outputs": [],
   "source": [
    "#Data preprocessing\n",
    "\n",
    "def standardized(df, numeric_only = True):\n",
    "    numeric = df.select_dtypes(include=['int64', 'float64'])\n",
    "    #subtract mean and divide by the standard deviation\n",
    "    df[numeric.columns] = (numeric - numeric.mean()) / numeric.std()\n",
    "    return df\n",
    "\n",
    "def pre_processing_data(df, enforce_cols = None):\n",
    "    print('Input shape: \\t{}'.format(df.shape))\n",
    "    df = standardized(df)\n",
    "    print('After standardization {}'.format(df.shape))\n",
    "    #create dummy variable for the categories\n",
    "    df = pd.get_dummies(df)\n",
    "    print('After converting categoricals: \\t{}'.format(df.shape))\n",
    "    \n",
    "    #match the test and training set\n",
    "    if enforce_cols is not None:\n",
    "        to_drop = np.setdiff1d(df.columns, enforce_cols)\n",
    "        to_add = np.setdiff1d(enforce_cols, df.columns)\n",
    "        \n",
    "        df.drop(to_drop, axis = 1, inplace = True)\n",
    "        df = df.assign(**{c: 0 for c in to_add})\n",
    "        \n",
    "    df.fillna(0, inplace= True)\n",
    "    \n",
    "    return df"
   ]
  },
  {
   "cell_type": "code",
   "execution_count": 6,
   "metadata": {},
   "outputs": [
    {
     "name": "stdout",
     "output_type": "stream",
     "text": [
      "Country A\n",
      "Input shape: \t(7382, 335)\n",
      "After standardization (7382, 335)\n",
      "After converting categoricals: \t(7382, 829)\n"
     ]
    }
   ],
   "source": [
    "#here we convert the data to surveys\n",
    "print(\"Country A\")\n",
    "Ax_train = standardized(A_train)\n",
    "AX_train = pre_processing_data(Ax_train)"
   ]
  },
  {
   "cell_type": "code",
   "execution_count": 7,
   "metadata": {},
   "outputs": [],
   "source": [
    "AX_train[\"poor\"] *= 1"
   ]
  },
  {
   "cell_type": "code",
   "execution_count": 8,
   "metadata": {},
   "outputs": [
    {
     "data": {
      "text/html": [
       "<div>\n",
       "<style scoped>\n",
       "    .dataframe tbody tr th:only-of-type {\n",
       "        vertical-align: middle;\n",
       "    }\n",
       "\n",
       "    .dataframe tbody tr th {\n",
       "        vertical-align: top;\n",
       "    }\n",
       "\n",
       "    .dataframe thead th {\n",
       "        text-align: right;\n",
       "    }\n",
       "</style>\n",
       "<table border=\"1\" class=\"dataframe\">\n",
       "  <thead>\n",
       "    <tr style=\"text-align: right;\">\n",
       "      <th></th>\n",
       "      <th>Unnamed: 0</th>\n",
       "      <th>nEsgxvAq</th>\n",
       "      <th>OMtioXZZ</th>\n",
       "      <th>YFMZwKrU</th>\n",
       "      <th>poor</th>\n",
       "      <th>TiwRslOh</th>\n",
       "      <th>wBXbHZmp_DkQlr</th>\n",
       "      <th>wBXbHZmp_JhtDR</th>\n",
       "      <th>SlDKnCuu_GUusz</th>\n",
       "      <th>SlDKnCuu_alLXR</th>\n",
       "      <th>...</th>\n",
       "      <th>JCDeZBXq_LPtkN</th>\n",
       "      <th>JCDeZBXq_UyAms</th>\n",
       "      <th>HGPWuGlV_WKNwg</th>\n",
       "      <th>HGPWuGlV_vkbkA</th>\n",
       "      <th>GDUPaBQs_qCEuA</th>\n",
       "      <th>GDUPaBQs_qQxrL</th>\n",
       "      <th>WuwrCsIY_AITFl</th>\n",
       "      <th>WuwrCsIY_GAZGl</th>\n",
       "      <th>AlDbXTlZ_aQeIm</th>\n",
       "      <th>AlDbXTlZ_cecIq</th>\n",
       "    </tr>\n",
       "    <tr>\n",
       "      <th>id</th>\n",
       "      <th></th>\n",
       "      <th></th>\n",
       "      <th></th>\n",
       "      <th></th>\n",
       "      <th></th>\n",
       "      <th></th>\n",
       "      <th></th>\n",
       "      <th></th>\n",
       "      <th></th>\n",
       "      <th></th>\n",
       "      <th></th>\n",
       "      <th></th>\n",
       "      <th></th>\n",
       "      <th></th>\n",
       "      <th></th>\n",
       "      <th></th>\n",
       "      <th></th>\n",
       "      <th></th>\n",
       "      <th></th>\n",
       "      <th></th>\n",
       "      <th></th>\n",
       "    </tr>\n",
       "  </thead>\n",
       "  <tbody>\n",
       "    <tr>\n",
       "      <th>66721</th>\n",
       "      <td>1.059419</td>\n",
       "      <td>-1.437328</td>\n",
       "      <td>0.327788</td>\n",
       "      <td>1.103348</td>\n",
       "      <td>0</td>\n",
       "      <td>-1.964543</td>\n",
       "      <td>0</td>\n",
       "      <td>1</td>\n",
       "      <td>1</td>\n",
       "      <td>0</td>\n",
       "      <td>...</td>\n",
       "      <td>0</td>\n",
       "      <td>1</td>\n",
       "      <td>0</td>\n",
       "      <td>1</td>\n",
       "      <td>0</td>\n",
       "      <td>1</td>\n",
       "      <td>1</td>\n",
       "      <td>0</td>\n",
       "      <td>0</td>\n",
       "      <td>1</td>\n",
       "    </tr>\n",
       "    <tr>\n",
       "      <th>75174</th>\n",
       "      <td>-0.408081</td>\n",
       "      <td>-0.410586</td>\n",
       "      <td>1.980361</td>\n",
       "      <td>1.103348</td>\n",
       "      <td>0</td>\n",
       "      <td>-0.175521</td>\n",
       "      <td>0</td>\n",
       "      <td>1</td>\n",
       "      <td>1</td>\n",
       "      <td>0</td>\n",
       "      <td>...</td>\n",
       "      <td>1</td>\n",
       "      <td>0</td>\n",
       "      <td>0</td>\n",
       "      <td>1</td>\n",
       "      <td>0</td>\n",
       "      <td>1</td>\n",
       "      <td>1</td>\n",
       "      <td>0</td>\n",
       "      <td>0</td>\n",
       "      <td>1</td>\n",
       "    </tr>\n",
       "    <tr>\n",
       "      <th>62573</th>\n",
       "      <td>-1.138240</td>\n",
       "      <td>-0.410586</td>\n",
       "      <td>0.327788</td>\n",
       "      <td>-0.012394</td>\n",
       "      <td>0</td>\n",
       "      <td>0.718989</td>\n",
       "      <td>0</td>\n",
       "      <td>1</td>\n",
       "      <td>1</td>\n",
       "      <td>0</td>\n",
       "      <td>...</td>\n",
       "      <td>1</td>\n",
       "      <td>0</td>\n",
       "      <td>0</td>\n",
       "      <td>1</td>\n",
       "      <td>0</td>\n",
       "      <td>1</td>\n",
       "      <td>1</td>\n",
       "      <td>0</td>\n",
       "      <td>0</td>\n",
       "      <td>1</td>\n",
       "    </tr>\n",
       "    <tr>\n",
       "      <th>50733</th>\n",
       "      <td>-0.860627</td>\n",
       "      <td>0.616157</td>\n",
       "      <td>0.327788</td>\n",
       "      <td>-0.012394</td>\n",
       "      <td>1</td>\n",
       "      <td>-0.622777</td>\n",
       "      <td>0</td>\n",
       "      <td>1</td>\n",
       "      <td>1</td>\n",
       "      <td>0</td>\n",
       "      <td>...</td>\n",
       "      <td>0</td>\n",
       "      <td>1</td>\n",
       "      <td>0</td>\n",
       "      <td>1</td>\n",
       "      <td>0</td>\n",
       "      <td>1</td>\n",
       "      <td>1</td>\n",
       "      <td>0</td>\n",
       "      <td>0</td>\n",
       "      <td>1</td>\n",
       "    </tr>\n",
       "    <tr>\n",
       "      <th>71295</th>\n",
       "      <td>0.222356</td>\n",
       "      <td>-0.410586</td>\n",
       "      <td>0.327788</td>\n",
       "      <td>1.103348</td>\n",
       "      <td>0</td>\n",
       "      <td>0.718989</td>\n",
       "      <td>0</td>\n",
       "      <td>1</td>\n",
       "      <td>1</td>\n",
       "      <td>0</td>\n",
       "      <td>...</td>\n",
       "      <td>0</td>\n",
       "      <td>1</td>\n",
       "      <td>0</td>\n",
       "      <td>1</td>\n",
       "      <td>0</td>\n",
       "      <td>1</td>\n",
       "      <td>1</td>\n",
       "      <td>0</td>\n",
       "      <td>1</td>\n",
       "      <td>0</td>\n",
       "    </tr>\n",
       "  </tbody>\n",
       "</table>\n",
       "<p>5 rows × 829 columns</p>\n",
       "</div>"
      ],
      "text/plain": [
       "       Unnamed: 0  nEsgxvAq  OMtioXZZ  YFMZwKrU  poor  TiwRslOh  \\\n",
       "id                                                                \n",
       "66721    1.059419 -1.437328  0.327788  1.103348     0 -1.964543   \n",
       "75174   -0.408081 -0.410586  1.980361  1.103348     0 -0.175521   \n",
       "62573   -1.138240 -0.410586  0.327788 -0.012394     0  0.718989   \n",
       "50733   -0.860627  0.616157  0.327788 -0.012394     1 -0.622777   \n",
       "71295    0.222356 -0.410586  0.327788  1.103348     0  0.718989   \n",
       "\n",
       "       wBXbHZmp_DkQlr  wBXbHZmp_JhtDR  SlDKnCuu_GUusz  SlDKnCuu_alLXR  ...  \\\n",
       "id                                                                     ...   \n",
       "66721               0               1               1               0  ...   \n",
       "75174               0               1               1               0  ...   \n",
       "62573               0               1               1               0  ...   \n",
       "50733               0               1               1               0  ...   \n",
       "71295               0               1               1               0  ...   \n",
       "\n",
       "       JCDeZBXq_LPtkN  JCDeZBXq_UyAms  HGPWuGlV_WKNwg  HGPWuGlV_vkbkA  \\\n",
       "id                                                                      \n",
       "66721               0               1               0               1   \n",
       "75174               1               0               0               1   \n",
       "62573               1               0               0               1   \n",
       "50733               0               1               0               1   \n",
       "71295               0               1               0               1   \n",
       "\n",
       "       GDUPaBQs_qCEuA  GDUPaBQs_qQxrL  WuwrCsIY_AITFl  WuwrCsIY_GAZGl  \\\n",
       "id                                                                      \n",
       "66721               0               1               1               0   \n",
       "75174               0               1               1               0   \n",
       "62573               0               1               1               0   \n",
       "50733               0               1               1               0   \n",
       "71295               0               1               1               0   \n",
       "\n",
       "       AlDbXTlZ_aQeIm  AlDbXTlZ_cecIq  \n",
       "id                                     \n",
       "66721               0               1  \n",
       "75174               0               1  \n",
       "62573               0               1  \n",
       "50733               0               1  \n",
       "71295               1               0  \n",
       "\n",
       "[5 rows x 829 columns]"
      ]
     },
     "execution_count": 8,
     "metadata": {},
     "output_type": "execute_result"
    }
   ],
   "source": [
    "AX_train.head()"
   ]
  },
  {
   "cell_type": "code",
   "execution_count": 9,
   "metadata": {},
   "outputs": [],
   "source": [
    "a_train = AX_train.drop('poor', axis = 1)"
   ]
  },
  {
   "cell_type": "code",
   "execution_count": 10,
   "metadata": {},
   "outputs": [],
   "source": [
    "from sklearn.model_selection import train_test_split\n",
    "x_train,x_test,y_train,y_test=train_test_split(a_train, AX_train['poor'], test_size=0.20, random_state=7, shuffle=True)"
   ]
  },
  {
   "cell_type": "code",
   "execution_count": 11,
   "metadata": {},
   "outputs": [
    {
     "name": "stdout",
     "output_type": "stream",
     "text": [
      "0:\ttest: 0.8442538\tbest: 0.8442538 (0)\ttotal: 417ms\tremaining: 3m 27s\n",
      "300:\ttest: 0.9544279\tbest: 0.9544279 (300)\ttotal: 1m 37s\tremaining: 1m 3s\n",
      "497:\ttest: 0.9573092\tbest: 0.9573092 (497)\ttotal: 2m 40s\tremaining: 0us\n",
      "\n",
      "bestTest = 0.9573092421\n",
      "bestIteration = 497\n",
      "\n"
     ]
    },
    {
     "data": {
      "text/plain": [
       "<catboost.core.CatBoostClassifier at 0x7f1a4ca64910>"
      ]
     },
     "execution_count": 11,
     "metadata": {},
     "output_type": "execute_result"
    }
   ],
   "source": [
    "import random\n",
    "from catboost import CatBoostClassifier\n",
    "import pandas as pd\n",
    "import numpy as np\n",
    "from numpy import arange\n",
    "from tqdm import tqdm_notebook as tqdm\n",
    "import matplotlib.pyplot as plt\n",
    "plt.style.use('ggplot')\n",
    "import seaborn as sns\n",
    "from sklearn.model_selection import train_test_split\n",
    "from sklearn import metrics, preprocessing\n",
    "\n",
    "from sklearn.model_selection import StratifiedKFold\n",
    "n_fold = 4\n",
    "folds = StratifiedKFold(n_splits=n_fold, shuffle=True)\n",
    "\n",
    "params = {'bagging_temperature': 0.5,\n",
    "            'depth': 7,\n",
    "            'iterations': 498,\n",
    "            'l2_leaf_reg': 25,\n",
    "            'learning_rate': 0.04,\n",
    "            'sampling_frequency': 'PerTreeLevel',\n",
    "            'leaf_estimation_method': 'Gradient',\n",
    "            'random_strength': 0.8,\n",
    "            'boosting_type': 'Ordered',\n",
    "            'feature_border_type': 'MaxLogSum',\n",
    "            'l2_leaf_reg': 50,\n",
    "            'max_ctr_complexity': 2,\n",
    "            'fold_len_multiplier': 2}\n",
    "\n",
    "\n",
    "model_n = CatBoostClassifier(**params,\n",
    "                               loss_function='Logloss',\n",
    "                               eval_metric='AUC',\n",
    "                               nan_mode='Min',\n",
    "                               thread_count=8,\n",
    "                               task_type='CPU',\n",
    "                               verbose=True\n",
    "    #iterations=200, \n",
    "    #learning_rate=0.1, \n",
    "    #loss_function='CrossEntropy'\n",
    ")\n",
    "#train model\n",
    "model_n.fit(x_train, y_train, eval_set=(x_test, y_test),\n",
    "                            \n",
    "                              verbose_eval=300,\n",
    "                              early_stopping_rounds=500,\n",
    "                              use_best_model=True,\n",
    "                              plot=False)"
   ]
  },
  {
   "cell_type": "code",
   "execution_count": 12,
   "metadata": {},
   "outputs": [],
   "source": [
    "y_pred1 = model_n.predict(x_test)"
   ]
  },
  {
   "cell_type": "code",
   "execution_count": 13,
   "metadata": {},
   "outputs": [
    {
     "data": {
      "text/plain": [
       "0.8844236880576515"
      ]
     },
     "execution_count": 13,
     "metadata": {},
     "output_type": "execute_result"
    }
   ],
   "source": [
    "from sklearn.metrics import f1_score\n",
    "\n",
    "f1_score(y_test, y_pred1, average='macro')"
   ]
  },
  {
   "cell_type": "code",
   "execution_count": 14,
   "metadata": {},
   "outputs": [],
   "source": [
    "A_test = pd.read_csv('test.csv')\n",
    "A_test.set_index('id', inplace = True)"
   ]
  },
  {
   "cell_type": "code",
   "execution_count": 15,
   "metadata": {},
   "outputs": [
    {
     "name": "stdout",
     "output_type": "stream",
     "text": [
      "Input shape: \t(821, 334)\n",
      "After standardization (821, 334)\n",
      "After converting categoricals: \t(821, 798)\n"
     ]
    }
   ],
   "source": [
    "Ay_test = pre_processing_data(A_test, enforce_cols=a_train.columns)\n",
    "AY_test = standardized(Ay_test)"
   ]
  },
  {
   "cell_type": "code",
   "execution_count": 16,
   "metadata": {},
   "outputs": [],
   "source": [
    "'''\n",
    "from sklearn.model_selection import cross_val_predict\n",
    "from sklearn import metrics\n",
    "pred = cross_val_predict(model_A, AX_train, AY_train, cv=10)\n",
    "#print(metrics.accuracy_score(AY_train, pred))\n",
    "'''\n",
    "\n",
    "#submission format\n",
    "\n",
    "A_pred = model_n.predict(AY_test)"
   ]
  },
  {
   "cell_type": "code",
   "execution_count": 17,
   "metadata": {},
   "outputs": [],
   "source": [
    "from pandas import DataFrame\n",
    "\n",
    "df_new = DataFrame (A_pred,columns=['poor'])"
   ]
  },
  {
   "cell_type": "code",
   "execution_count": 18,
   "metadata": {},
   "outputs": [
    {
     "data": {
      "text/html": [
       "<div>\n",
       "<style scoped>\n",
       "    .dataframe tbody tr th:only-of-type {\n",
       "        vertical-align: middle;\n",
       "    }\n",
       "\n",
       "    .dataframe tbody tr th {\n",
       "        vertical-align: top;\n",
       "    }\n",
       "\n",
       "    .dataframe thead th {\n",
       "        text-align: right;\n",
       "    }\n",
       "</style>\n",
       "<table border=\"1\" class=\"dataframe\">\n",
       "  <thead>\n",
       "    <tr style=\"text-align: right;\">\n",
       "      <th></th>\n",
       "      <th>poor</th>\n",
       "    </tr>\n",
       "  </thead>\n",
       "  <tbody>\n",
       "    <tr>\n",
       "      <th>0</th>\n",
       "      <td>1</td>\n",
       "    </tr>\n",
       "    <tr>\n",
       "      <th>1</th>\n",
       "      <td>0</td>\n",
       "    </tr>\n",
       "    <tr>\n",
       "      <th>2</th>\n",
       "      <td>0</td>\n",
       "    </tr>\n",
       "    <tr>\n",
       "      <th>3</th>\n",
       "      <td>1</td>\n",
       "    </tr>\n",
       "    <tr>\n",
       "      <th>4</th>\n",
       "      <td>0</td>\n",
       "    </tr>\n",
       "    <tr>\n",
       "      <th>...</th>\n",
       "      <td>...</td>\n",
       "    </tr>\n",
       "    <tr>\n",
       "      <th>816</th>\n",
       "      <td>0</td>\n",
       "    </tr>\n",
       "    <tr>\n",
       "      <th>817</th>\n",
       "      <td>1</td>\n",
       "    </tr>\n",
       "    <tr>\n",
       "      <th>818</th>\n",
       "      <td>0</td>\n",
       "    </tr>\n",
       "    <tr>\n",
       "      <th>819</th>\n",
       "      <td>0</td>\n",
       "    </tr>\n",
       "    <tr>\n",
       "      <th>820</th>\n",
       "      <td>0</td>\n",
       "    </tr>\n",
       "  </tbody>\n",
       "</table>\n",
       "<p>821 rows × 1 columns</p>\n",
       "</div>"
      ],
      "text/plain": [
       "     poor\n",
       "0       1\n",
       "1       0\n",
       "2       0\n",
       "3       1\n",
       "4       0\n",
       "..    ...\n",
       "816     0\n",
       "817     1\n",
       "818     0\n",
       "819     0\n",
       "820     0\n",
       "\n",
       "[821 rows x 1 columns]"
      ]
     },
     "execution_count": 18,
     "metadata": {},
     "output_type": "execute_result"
    }
   ],
   "source": [
    "df_new"
   ]
  }
 ],
 "metadata": {
  "kernelspec": {
   "display_name": "Python 3",
   "language": "python",
   "name": "python3"
  },
  "language_info": {
   "codemirror_mode": {
    "name": "ipython",
    "version": 3
   },
   "file_extension": ".py",
   "mimetype": "text/x-python",
   "name": "python",
   "nbconvert_exporter": "python",
   "pygments_lexer": "ipython3",
   "version": "3.8.3"
  }
 },
 "nbformat": 4,
 "nbformat_minor": 4
}
